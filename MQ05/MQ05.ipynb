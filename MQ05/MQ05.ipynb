{
 "cells": [
  {
   "cell_type": "markdown",
   "metadata": {},
   "source": [
    "# Trabalho 05 de Métodos Quantitativos\n",
    "###### Pedro Henrique Ventura \n",
    "###### Aluno de Sistemas Multimídia da Pós Graduação em Ciência da Computação (2019). Terceiro Trimestre\n",
    "## Bibliotecas"
   ]
  },
  {
   "cell_type": "code",
   "execution_count": 1,
   "metadata": {},
   "outputs": [],
   "source": [
    "import numpy as np\n",
    "import pandas as pd\n",
    "import matplotlib.pyplot as plt\n",
    "from yellowbrick.regressor import ResidualsPlot\n",
    "from sklearn.linear_model import LinearRegression"
   ]
  },
  {
   "cell_type": "markdown",
   "metadata": {},
   "source": [
    "### 1. Criação da amostra\n",
    "#### A amostra aqui criada, simula a evolução de um jogador, aqui dada como \"Nível\" (eixo X) em um RPG ficticio, onde tenta buscar analisar uma relação entre o \"Tempo\" (eixo Y) gasto em minutos jogando tal Jogo/RPG."
   ]
  },
  {
   "cell_type": "code",
   "execution_count": 2,
   "metadata": {},
   "outputs": [
    {
     "name": "stdout",
     "output_type": "stream",
     "text": [
      "[[1, 2, 3, 4, 5, 6, 7, 8, 9, 10], [10, 7, 5, 20, 35, 70, 66, 80, 85, 120]]\n"
     ]
    }
   ],
   "source": [
    "x = [1,2,3,4,5,6,7,8,9,10]#nivel da conta\n",
    "y = [10,7,5,20,35,70,66,80,85,120]#média de minutos jogados \n",
    "xy = [x,y]\n",
    "\n",
    "print(xy)"
   ]
  },
  {
   "cell_type": "markdown",
   "metadata": {},
   "source": [
    "### 2. Cálculo de coeficiênte de Correlação"
   ]
  },
  {
   "cell_type": "code",
   "execution_count": 3,
   "metadata": {},
   "outputs": [
    {
     "name": "stdout",
     "output_type": "stream",
     "text": [
      "Coeficiênte de Correlação: 0.96\n",
      "R²: 0.92%\n"
     ]
    }
   ],
   "source": [
    "r = np.corrcoef(xy)\n",
    "r = r[0][1]\n",
    "r2=(r*r)\n",
    "\n",
    "print(\"Coeficiênte de Correlação: {:.2f}\".format(r))\n",
    "print(\"R²: {:.2f}\".format(r2)+\"%\")"
   ]
  },
  {
   "cell_type": "markdown",
   "metadata": {},
   "source": [
    "### 3. Estimar parâmetros, verificar a qualidade, calcular os erros"
   ]
  },
  {
   "cell_type": "code",
   "execution_count": null,
   "metadata": {},
   "outputs": [],
   "source": []
  },
  {
   "cell_type": "markdown",
   "metadata": {},
   "source": [
    "### 4. Calcular desvio padrão dos erros e dos parâmetros"
   ]
  },
  {
   "cell_type": "markdown",
   "metadata": {},
   "source": [
    "### 5. Calcular intervalo de confiança dos parâmetros para níveis de confiança de 90%, 95% e 99%"
   ]
  },
  {
   "cell_type": "markdown",
   "metadata": {},
   "source": [
    "### 6. Testar linearidade, independência de erros, erros normais, homocedasticidade (com gráficos)"
   ]
  },
  {
   "cell_type": "code",
   "execution_count": 4,
   "metadata": {},
   "outputs": [
    {
     "name": "stdout",
     "output_type": "stream",
     "text": [
      "Interceptação no eixoY em X= [-19.66666667]\n"
     ]
    }
   ],
   "source": [
    "# Tranforma as variáveis em formato específico para a regressão linear\n",
    "Xr = np.array(x).reshape(-1,1)\n",
    "Yr = np.array(y).reshape(-1,1)\n",
    "\n",
    "# Cria e alimenta o modelo\n",
    "modelo = LinearRegression()\n",
    "modelo.fit(Xr,Yr)\n",
    "\n",
    "# Interceptação\n",
    "print(\"Interceptação no eixoY em X=\", modelo.intercept_)"
   ]
  },
  {
   "cell_type": "code",
   "execution_count": 5,
   "metadata": {},
   "outputs": [
    {
     "data": {
      "text/plain": [
       "[<matplotlib.lines.Line2D at 0x204bc209608>]"
      ]
     },
     "execution_count": 5,
     "metadata": {},
     "output_type": "execute_result"
    },
    {
     "data": {
      "image/png": "[encoded data removed]",
      "text/plain": [
       "<Figure size 432x288 with 1 Axes>"
      ]
     },
     "metadata": {
      "needs_background": "light"
     },
     "output_type": "display_data"
    }
   ],
   "source": [
    "# Grafico\n",
    "plt.xlabel('Nivel da Conta')\n",
    "plt.ylabel('Minutos jogados')\n",
    "plt.scatter(Xr,Yr)\n",
    "plt.plot(Xr, modelo.predict(Xr),color = 'red')"
   ]
  },
  {
   "cell_type": "code",
   "execution_count": 6,
   "metadata": {},
   "outputs": [
    {
     "name": "stdout",
     "output_type": "stream",
     "text": [
      "Previsao manual do nivel 12 : [[131.8969697]]\n",
      "Previsao automatica do nivel 12 : [[131.8969697]]\n"
     ]
    }
   ],
   "source": [
    "# Previsão simulada para um nível 12\n",
    "nivel =12\n",
    "## Manual\n",
    "print(\"Previsao manual do nivel\",nivel,\":\",modelo.intercept_+modelo.coef_*nivel )\n",
    "\n",
    "## pelo Sklearn\n",
    "nivelr = [[nivel]] #Formato pedido pelo .predict()\n",
    "p = modelo.predict(nivelr)\n",
    "print(\"Previsao automatica do nivel\",nivel,\":\", p)"
   ]
  },
  {
   "cell_type": "code",
   "execution_count": 36,
   "metadata": {},
   "outputs": [
    {
     "name": "stdout",
     "output_type": "stream",
     "text": [
      "Residuo do nivel 1 : [17.03636364]\n",
      "Residuo do nivel 2 : [1.40606061]\n",
      "Residuo do nivel 3 : [-13.22424242]\n",
      "Residuo do nivel 4 : [-10.85454545]\n",
      "Residuo do nivel 5 : [-8.48484848]\n",
      "Residuo do nivel 6 : [13.88484848]\n",
      "Residuo do nivel 7 : [-2.74545455]\n",
      "Residuo do nivel 8 : [-1.37575758]\n",
      "Residuo do nivel 9 : [-9.00606061]\n",
      "Residuo do nivel 10 : [13.36363636]\n",
      "\n",
      "Residuos total:  [91.38181818]\n"
     ]
    },
    {
     "data": {
      "image/png": "[encoded data removed]",
      "text/plain": [
       "<Figure size 432x288 with 2 Axes>"
      ]
     },
     "metadata": {
      "needs_background": "light"
     },
     "output_type": "display_data"
    },
    {
     "data": {
      "text/plain": [
       "<matplotlib.axes._subplots.AxesSubplot at 0x204bf4525c8>"
      ]
     },
     "execution_count": 36,
     "metadata": {},
     "output_type": "execute_result"
    }
   ],
   "source": [
    "# Residuos\n",
    "predictY = modelo.predict(Xr)\n",
    "residuos=[]\n",
    "residuoTotal =0\n",
    "for i in range(len(predictY)):\n",
    "    residuo =Yr[i]-predictY[i]\n",
    "    \n",
    "    print(\"Residuo do nivel\",i+1,\":\",residuo)\n",
    "    residuos.append(float(residuo))\n",
    "\n",
    "    \n",
    "    if(residuo<0):\n",
    "            residuo=residuo*(-1)\n",
    "    residuoTotal=residuoTotal+residuo\n",
    "\n",
    "print(\"\\Total de Residuos: \", residuoTotal)\n",
    "        \n",
    "# Residuos individuais\n",
    "visualizador = ResidualsPlot(modelo)\n",
    "visualizador.fit(Xr,Yr)\n",
    "visualizador.poof()"
   ]
  },
  {
   "cell_type": "code",
   "execution_count": null,
   "metadata": {},
   "outputs": [],
   "source": []
  }
 ],
 "metadata": {
  "kernelspec": {
   "display_name": "Python 3",
   "language": "python",
   "name": "python3"
  },
  "language_info": {
   "codemirror_mode": {
    "name": "ipython",
    "version": 3
   },
   "file_extension": ".py",
   "mimetype": "text/x-python",
   "name": "python",
   "nbconvert_exporter": "python",
   "pygments_lexer": "ipython3",
   "version": "3.7.4"
  }
 },
 "nbformat": 4,
 "nbformat_minor": 2
}
