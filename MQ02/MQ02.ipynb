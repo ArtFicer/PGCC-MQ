{
 "cells": [
  {
   "cell_type": "markdown",
   "metadata": {},
   "source": [
    "# Trabalho 02 de Métodos Quantitativos\n",
    "###### Pedro Henrique Ventura \n",
    "###### Aluno de Pós Graduação (2019)\n",
    "## Bibliotecas"
   ]
  },
  {
   "cell_type": "code",
   "execution_count": 1,
   "metadata": {},
   "outputs": [],
   "source": [
    "#Obtenção dos dados do site:\n",
    "import requests\n",
    "from urllib import request, response, error, parse\n",
    "from urllib.request import urlopen\n",
    "from bs4 import BeautifulSoup\n",
    "\n",
    "#Manipulação de dados, bases e geração de gráficos\n",
    "import pandas as pd\n",
    "import numpy as np\n",
    "import matplotlib.pyplot as plt"
   ]
  },
  {
   "cell_type": "markdown",
   "metadata": {},
   "source": [
    "## 1. Obtendo dados\n",
    "#### Nesta etapa, obteve-se dados referêntes a quadrinhos na loja virtual da marvel (comicstore.marvel.com); Nome da HQ e Preço.\n",
    "##### Obs: Caso não queira  baixar todos os dados, execute a partir do item 2"
   ]
  },
  {
   "cell_type": "code",
   "execution_count": 2,
   "metadata": {},
   "outputs": [
    {
     "name": "stdout",
     "output_type": "stream",
     "text": [
      "PáginaComics Best Sellers - Marvel Comics - 1 Obtida\n"
     ]
    },
    {
     "ename": "IndexError",
     "evalue": "list index out of range",
     "output_type": "error",
     "traceback": [
      "\u001b[1;31m---------------------------------------------------------------------------\u001b[0m",
      "\u001b[1;31mIndexError\u001b[0m                                Traceback (most recent call last)",
      "\u001b[1;32m<ipython-input-2-ef3744e07e70>\u001b[0m in \u001b[0;36m<module>\u001b[1;34m\u001b[0m\n\u001b[0;32m     24\u001b[0m \u001b[1;33m\u001b[0m\u001b[0m\n\u001b[0;32m     25\u001b[0m         \u001b[0mwrappers\u001b[0m \u001b[1;33m=\u001b[0m \u001b[0melemen\u001b[0m\u001b[1;33m.\u001b[0m\u001b[0mfind\u001b[0m\u001b[1;33m(\u001b[0m\u001b[1;34m'h6'\u001b[0m\u001b[1;33m,\u001b[0m \u001b[0mclass_\u001b[0m\u001b[1;33m=\u001b[0m\u001b[1;34m'content-subtitle cu-alc'\u001b[0m\u001b[1;33m)\u001b[0m\u001b[1;33m\u001b[0m\u001b[1;33m\u001b[0m\u001b[0m\n\u001b[1;32m---> 26\u001b[1;33m         \u001b[0mhq_numbering\u001b[0m\u001b[1;33m.\u001b[0m\u001b[0mappend\u001b[0m\u001b[1;33m(\u001b[0m\u001b[0mwrappers\u001b[0m\u001b[1;33m.\u001b[0m\u001b[0mget_text\u001b[0m\u001b[1;33m(\u001b[0m\u001b[1;33m)\u001b[0m\u001b[1;33m.\u001b[0m\u001b[0msplit\u001b[0m\u001b[1;33m(\u001b[0m\u001b[1;34m\"Issue \"\u001b[0m\u001b[1;33m)\u001b[0m\u001b[1;33m[\u001b[0m\u001b[1;36m1\u001b[0m\u001b[1;33m]\u001b[0m\u001b[1;33m)\u001b[0m\u001b[1;33m\u001b[0m\u001b[1;33m\u001b[0m\u001b[0m\n\u001b[0m\u001b[0;32m     27\u001b[0m \u001b[1;33m\u001b[0m\u001b[0m\n\u001b[0;32m     28\u001b[0m         \u001b[0mwrappers\u001b[0m \u001b[1;33m=\u001b[0m \u001b[0melemen\u001b[0m\u001b[1;33m.\u001b[0m\u001b[0mfind\u001b[0m\u001b[1;33m(\u001b[0m\u001b[1;34m'h5'\u001b[0m\u001b[1;33m,\u001b[0m \u001b[0mclass_\u001b[0m\u001b[1;33m=\u001b[0m\u001b[1;34m'item-price cu-alc'\u001b[0m\u001b[1;33m)\u001b[0m\u001b[1;33m\u001b[0m\u001b[1;33m\u001b[0m\u001b[0m\n",
      "\u001b[1;31mIndexError\u001b[0m: list index out of range"
     ]
    }
   ],
   "source": [
    "url = []\n",
    "for i in range(1, 43): #Pegando todas as páginas que possuiam hqs para venda\n",
    "    url.append('https://comicstore.marvel.com/comics-best-sellers?cu=0&bestsellerList_pg=' + str(i))\n",
    "\n",
    "#Listas para armazenar nome, numeração e preço das hqs\n",
    "hq_name = []\n",
    "hq_numbering = []\n",
    "hq_price = []\n",
    "\n",
    "num = 0 #variável para contar de quais páginas já foram pegos \n",
    "\n",
    "for x in url: #pegando cada página\n",
    "    num = num+1\n",
    "    html = urlopen(x)\n",
    "    soup = BeautifulSoup (html,\"lxml\")\n",
    "    title = soup.title\n",
    "    titleText = title.get_text()\n",
    "    print(\"Página\" + titleText + \" - \" + str(num) + \" Obtida\") #exibindo que já foi pego\n",
    "    \n",
    "    figcaption = soup.find_all('figcaption', class_='content-info') ## Obtendo o Título e Preço das obras\n",
    "    for elemen in figcaption:\n",
    "        wrappers = elemen.find('h5', class_='content-title cu-alc')\n",
    "        hq_name.append(wrappers.get_text().replace('-)', ')'))\n",
    "\n",
    "        wrappers = elemen.find('h6', class_='content-subtitle cu-alc')\n",
    "        hq_numbering.append(wrappers.get_text().split(\"Issue \")[1])\n",
    "        \n",
    "        wrappers = elemen.find('h5', class_='item-price cu-alc')\n",
    "        hq_price.append(float(wrappers.get_text().split(\"$\")[1]))\n",
    "        \n",
    "        \n",
    "        "
   ]
  },
  {
   "cell_type": "code",
   "execution_count": null,
   "metadata": {},
   "outputs": [],
   "source": [
    "# Criando e salvando a base\n",
    "data = {'Nome':hq_name, 'Numeacao': hq_numbering, 'Preco':hq_price} \n",
    "dsetMarvelHQ = pd.DataFrame(data) \n",
    "dsetMarvelHQ.to_csv(r'C:\\Users\\pe-ri\\Documents\\Python Scripts\\PGCC-Métodos Quantitativos\\PGCC-MQ\\MQ02\\dsetMarvelHQ.csv',index = None, header=True)\n"
   ]
  },
  {
   "cell_type": "markdown",
   "metadata": {},
   "source": [
    "## 2. Visualizando a base gerada"
   ]
  },
  {
   "cell_type": "code",
   "execution_count": null,
   "metadata": {
    "scrolled": true
   },
   "outputs": [],
   "source": [
    "# Carregando a Base para não ter que ficar rodando sempre a parte 1\n",
    "df = pd.read_csv(r'C:\\Users\\pe-ri\\Documents\\Python Scripts\\PGCC-Métodos Quantitativos\\PGCC-MQ\\MQ02\\dsetMarvelHQ.csv')\n",
    "\n",
    "# Exibindo primeiros e últimos dados\n",
    "print(df.head())\n",
    "print(df.tail())"
   ]
  },
  {
   "cell_type": "markdown",
   "metadata": {},
   "source": [
    "##### Com tais dados, optou-se por fazer uma análise com relação aos preços das HQs por se tratar de uma variável Discreta, e o nome ser uma V. Categórica"
   ]
  },
  {
   "cell_type": "code",
   "execution_count": null,
   "metadata": {
    "scrolled": false
   },
   "outputs": [],
   "source": [
    "# Exibindo informações estatíticas básicas dos dados \n",
    "print(df.describe())\n",
    "boxplot = df.boxplot(column=['Preco'])\n",
    "print(boxplot)"
   ]
  },
  {
   "cell_type": "markdown",
   "metadata": {},
   "source": [
    "##### Foi possível perceber a existência de outliers por um simples boxplot. Logo, Fora feito então 2 processos, um com os outliers, e outro sem.\n",
    "\n",
    "### 3. Com Outliers\n",
    "#### 3.1 Calculando CDF"
   ]
  },
  {
   "cell_type": "code",
   "execution_count": null,
   "metadata": {},
   "outputs": [],
   "source": [
    "\"\"\"Pegando a quantidade de ocorrências e calculando a probabilidade\"\"\"\n",
    "\n",
    "#variáveis para armazenar total de valores distintos ocorrem ($totalOcorrencia), \n",
    "# e quais valores ocorrem e em quantas vezes ($ocorrencias)\n",
    "totalOcorrencia = 0\n",
    "ocorrencias = []\n",
    "ocorrencias = dict()\n",
    "#calculando quantidade de ocorrências\n",
    "\n",
    "X = df['Preco'].sort_values(ascending=True) #ordenando min->max\n",
    "totalAtributos = len(X) #pegando qdt total de atributos\n",
    "    \n",
    "for i in X: #agrupando e contando ocorrências\n",
    "    try:\n",
    "        ocorrencias[i] += 1\n",
    "    except KeyError:\n",
    "        ocorrencias[i] = 1\n",
    "        totalOcorrencia = totalOcorrencia + 1\n",
    "\n",
    "print(\"Total de ocorrências: \", totalOcorrencia)\n",
    "print(\"Ocorrências: \", ocorrencias)\n"
   ]
  },
  {
   "cell_type": "code",
   "execution_count": null,
   "metadata": {
    "scrolled": true
   },
   "outputs": [],
   "source": [
    "#calculando a probabilidade de ocorrência\n",
    "probabilidade = []\n",
    "eixoX = []\n",
    "\n",
    "for item, totalOcorrenciaIndividual in ocorrencias.items():\n",
    "    probabilidade.append(totalOcorrenciaIndividual/totalAtributos)\n",
    "    eixoX.append(item)\n",
    "print(\"\\nProbabilidade:\", probabilidade)\n",
    "\n",
    "#Calculando eixo X da CDF\n",
    "ValorEixoX = []\n",
    "ValorEixoX.append(probabilidade[0])\n",
    "\n",
    "for i in range(1,totalOcorrencia):\n",
    "        if i != 0:\n",
    "            ValorEixoX.append(probabilidade[i]+ValorEixoX[i-1])\n"
   ]
  },
  {
   "cell_type": "markdown",
   "metadata": {},
   "source": [
    "#### 3.2 Plotando CDF"
   ]
  },
  {
   "cell_type": "code",
   "execution_count": null,
   "metadata": {
    "scrolled": false
   },
   "outputs": [],
   "source": [
    "plt.xlabel('Preço da HQ')\n",
    "plt.ylabel('Probabilidade')\n",
    "plt.title('CDF Discreta')\n",
    "plt.grid(True)\n",
    "plt.step(eixoX, ValorEixoX, color='g')\n",
    "plt.show()"
   ]
  },
  {
   "cell_type": "markdown",
   "metadata": {},
   "source": [
    "#### 3.3 Calculando PMF e Criando tabela de relação do preço e PMF"
   ]
  },
  {
   "cell_type": "code",
   "execution_count": null,
   "metadata": {
    "scrolled": false
   },
   "outputs": [],
   "source": [
    "data = {'Nota':eixoX, 'PMF':probabilidade} \n",
    "pmf = pd.DataFrame(data) \n",
    "\n",
    "print(\"PMF por Preço\")\n",
    "print(pmf)"
   ]
  },
  {
   "cell_type": "markdown",
   "metadata": {},
   "source": [
    "#### 3.4 Plotando PMF"
   ]
  },
  {
   "cell_type": "code",
   "execution_count": null,
   "metadata": {
    "scrolled": true
   },
   "outputs": [],
   "source": [
    "plt.xlabel('Preço da HQ')\n",
    "plt.ylabel('Probabilidade')\n",
    "plt.title('PMF')\n",
    "plt.bar(eixoX, probabilidade,label='PMF')\n",
    "plt.show()"
   ]
  },
  {
   "cell_type": "markdown",
   "metadata": {},
   "source": [
    "### 4. Sem Outliers\n",
    "#### 4.1 Removendo Outliers"
   ]
  },
  {
   "cell_type": "code",
   "execution_count": null,
   "metadata": {
    "scrolled": false
   },
   "outputs": [],
   "source": [
    "\"\"\"Refazendo mas removendo Outliers (>=25)\"\"\"\n",
    "\"\"\"Outliers: 24.99: 10, 29.99: 5, 34.99: 1, 49.99: 1\"\"\"\n",
    "\n",
    "outliers = [24.99, 29.99, 34.99, 49.99] #carregando outliers\n",
    "\n",
    "for k in outliers:\n",
    "    # Obtendo posição dos outliers na base\n",
    "    indexNames = df[ df['Preco'] == k ].index\n",
    "    # Removendo\n",
    "    df.drop(indexNames , inplace=True)\n",
    "\n",
    "#Exibindo estatus sem os outliers\n",
    "print(df.describe())\n",
    "boxplot = df.boxplot(column=['Preco'])"
   ]
  },
  {
   "cell_type": "markdown",
   "metadata": {},
   "source": [
    "#### 4.2 Calculando CDF"
   ]
  },
  {
   "cell_type": "code",
   "execution_count": null,
   "metadata": {},
   "outputs": [],
   "source": [
    "\"\"\"Pegando a quantidade de ocorrências e calculando a probabilidade\"\"\"\n",
    "\n",
    "#variáveis para armazenar total de valores distintos ocorrem ($totalOcorrencia), \n",
    "# e quais valores ocorrem e em quantas vezes ($ocorrencias)\n",
    "totalOcorrencia = 0\n",
    "ocorrencias = []\n",
    "ocorrencias = dict()\n",
    "#calculando quantidade de ocorrências\n",
    "\n",
    "X = df['Preco'].sort_values(ascending=True) #ordenando min->max\n",
    "totalAtributos = len(X) #pegando qdt total de atributos\n",
    "    \n",
    "for i in X: #agrupando e contando ocorrências\n",
    "    try:\n",
    "        ocorrencias[i] += 1\n",
    "    except KeyError:\n",
    "        ocorrencias[i] = 1\n",
    "        totalOcorrencia = totalOcorrencia + 1\n",
    "\n",
    "print(\"Total de ocorrências: \", totalOcorrencia)\n",
    "print(\"Ocorrências: \", ocorrencias)\n"
   ]
  },
  {
   "cell_type": "code",
   "execution_count": null,
   "metadata": {},
   "outputs": [],
   "source": [
    "\"\"\"Pegando a quantidade de ocorrências e calculando a probabilidade\"\"\"\n",
    "\n",
    "#variáveis para armazenar total de valores distintos ocorrem ($totalOcorrencia), e quais valores ocorrem e em quantas vezes ($ocorrencias)\n",
    "totalOcorrencia = 0\n",
    "ocorrencias = []\n",
    "ocorrencias = dict()\n",
    "#calculando quantidade de ocorrências\n",
    "\n",
    "X = df['Preco'].sort_values(ascending=True) #ordenando min->max\n",
    "totalAtributos = len(X) #pegando qdt total de atributos\n",
    "    \n",
    "for i in X: #agrupando e contando ocorrências\n",
    "    try:\n",
    "        ocorrencias[i] += 1\n",
    "    except KeyError:\n",
    "        ocorrencias[i] = 1\n",
    "        totalOcorrencia = totalOcorrencia + 1\n",
    "\n",
    "print(\"Total de ocorrências: \", totalOcorrencia)\n",
    "print(\"Ocorrências: \", ocorrencias)\n"
   ]
  },
  {
   "cell_type": "code",
   "execution_count": null,
   "metadata": {
    "scrolled": true
   },
   "outputs": [],
   "source": [
    "#calculando a probabilidade de ocorrência\n",
    "probabilidade = []\n",
    "eixoX = []\n",
    "\n",
    "for item, totalOcorrenciaIndividual in ocorrencias.items():\n",
    "    probabilidade.append(totalOcorrenciaIndividual/totalAtributos)\n",
    "    eixoX.append(item)\n",
    "print(\"\\nProbabilidade:\", probabilidade)\n",
    "\n",
    "#Calculando eixo X da CDF\n",
    "ValorEixoX = []\n",
    "ValorEixoX.append(probabilidade[0])\n",
    "\n",
    "for i in range(1,totalOcorrencia):\n",
    "        if i != 0:\n",
    "            ValorEixoX.append(probabilidade[i]+ValorEixoX[i-1])\n"
   ]
  },
  {
   "cell_type": "markdown",
   "metadata": {},
   "source": [
    "#### 4.3 Plotando CDF"
   ]
  },
  {
   "cell_type": "code",
   "execution_count": null,
   "metadata": {
    "scrolled": false
   },
   "outputs": [],
   "source": [
    "plt.xlabel('Preço da HQ')\n",
    "plt.ylabel('Probabilidade')\n",
    "plt.title('CDF Discreta')\n",
    "plt.grid(True)\n",
    "plt.step(eixoX, ValorEixoX, color='b')\n",
    "plt.show()"
   ]
  },
  {
   "cell_type": "markdown",
   "metadata": {},
   "source": [
    "#### 4.4 Calculando PMF e Criando tabela de relação do preço e PMF"
   ]
  },
  {
   "cell_type": "code",
   "execution_count": null,
   "metadata": {
    "scrolled": true
   },
   "outputs": [],
   "source": [
    "data = {'Nota':eixoX, 'PMF':probabilidade} \n",
    "pmf = pd.DataFrame(data) \n",
    "\n",
    "print(\"PMF por Preço\")\n",
    "print(pmf)"
   ]
  },
  {
   "cell_type": "markdown",
   "metadata": {},
   "source": [
    "#### 4.5 Plotando PMF"
   ]
  },
  {
   "cell_type": "code",
   "execution_count": null,
   "metadata": {
    "scrolled": true
   },
   "outputs": [],
   "source": [
    "plt.xlabel('Preço da HQ')\n",
    "plt.ylabel('Probabilidade')\n",
    "plt.title('PMF')\n",
    "plt.bar(eixoX, probabilidade,label='PMF')\n",
    "plt.show()"
   ]
  }
 ],
 "metadata": {
  "kernelspec": {
   "display_name": "Python 3",
   "language": "python",
   "name": "python3"
  },
  "language_info": {
   "codemirror_mode": {
    "name": "ipython",
    "version": 3
   },
   "file_extension": ".py",
   "mimetype": "text/x-python",
   "name": "python",
   "nbconvert_exporter": "python",
   "pygments_lexer": "ipython3",
   "version": "3.7.3"
  }
 },
 "nbformat": 4,
 "nbformat_minor": 2
}
