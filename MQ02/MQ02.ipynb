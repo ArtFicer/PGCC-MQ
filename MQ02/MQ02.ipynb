{
 "cells": [
  {
   "cell_type": "markdown",
   "metadata": {},
   "source": [
    "# Trabalho 02 de Métodos Quantitativos\n",
    "###### Pedro Henrique Ventura \n",
    "###### Aluno de Sistemas Multimídia da Pós Graduação em Ciência da Computação (2019). Terceiro Trimestre\n",
    "## Bibliotecas"
   ]
  },
  {
   "cell_type": "code",
   "execution_count": 1,
   "metadata": {},
   "outputs": [],
   "source": [
    "#Obtenção dos dados do site:\n",
    "import requests\n",
    "from urllib import request, response, error, parse\n",
    "from urllib.request import urlopen\n",
    "from bs4 import BeautifulSoup\n",
    "\n",
    "#Manipulação de dados, bases e geração de gráficos\n",
    "import pandas as pd\n",
    "import numpy as np\n",
    "import matplotlib.pyplot as plt"
   ]
  },
  {
   "cell_type": "markdown",
   "metadata": {},
   "source": [
    "## 1. Obtendo dados\n",
    "#### Nesta etapa, obteve-se dados referêntes a quadrinhos na loja virtual da marvel (comicstore.marvel.com); Nome da HQ e Preço.\n",
    "##### Obs: Caso não queira  baixar todos os dados, execute a partir do item 2"
   ]
  },
  {
   "cell_type": "code",
   "execution_count": 2,
   "metadata": {},
   "outputs": [
    {
     "name": "stdout",
     "output_type": "stream",
     "text": [
      "PáginaComics Best Sellers - Marvel Comics - 1 Obtida\n",
      "PáginaComics Best Sellers - Marvel Comics - 2 Obtida\n",
      "PáginaComics Best Sellers - Marvel Comics - 3 Obtida\n",
      "PáginaComics Best Sellers - Marvel Comics - 4 Obtida\n",
      "PáginaComics Best Sellers - Marvel Comics - 5 Obtida\n",
      "PáginaComics Best Sellers - Marvel Comics - 6 Obtida\n",
      "PáginaComics Best Sellers - Marvel Comics - 7 Obtida\n",
      "PáginaComics Best Sellers - Marvel Comics - 8 Obtida\n",
      "PáginaComics Best Sellers - Marvel Comics - 9 Obtida\n",
      "PáginaComics Best Sellers - Marvel Comics - 10 Obtida\n",
      "PáginaComics Best Sellers - Marvel Comics - 11 Obtida\n",
      "PáginaComics Best Sellers - Marvel Comics - 12 Obtida\n",
      "PáginaComics Best Sellers - Marvel Comics - 13 Obtida\n",
      "PáginaComics Best Sellers - Marvel Comics - 14 Obtida\n",
      "PáginaComics Best Sellers - Marvel Comics - 15 Obtida\n",
      "PáginaComics Best Sellers - Marvel Comics - 16 Obtida\n",
      "PáginaComics Best Sellers - Marvel Comics - 17 Obtida\n",
      "PáginaComics Best Sellers - Marvel Comics - 18 Obtida\n",
      "PáginaComics Best Sellers - Marvel Comics - 19 Obtida\n",
      "PáginaComics Best Sellers - Marvel Comics - 20 Obtida\n",
      "PáginaComics Best Sellers - Marvel Comics - 21 Obtida\n",
      "PáginaComics Best Sellers - Marvel Comics - 22 Obtida\n",
      "PáginaComics Best Sellers - Marvel Comics - 23 Obtida\n",
      "PáginaComics Best Sellers - Marvel Comics - 24 Obtida\n",
      "PáginaComics Best Sellers - Marvel Comics - 25 Obtida\n",
      "PáginaComics Best Sellers - Marvel Comics - 26 Obtida\n",
      "PáginaComics Best Sellers - Marvel Comics - 27 Obtida\n",
      "PáginaComics Best Sellers - Marvel Comics - 28 Obtida\n",
      "PáginaComics Best Sellers - Marvel Comics - 29 Obtida\n",
      "PáginaComics Best Sellers - Marvel Comics - 30 Obtida\n",
      "PáginaComics Best Sellers - Marvel Comics - 31 Obtida\n",
      "PáginaComics Best Sellers - Marvel Comics - 32 Obtida\n",
      "PáginaComics Best Sellers - Marvel Comics - 33 Obtida\n",
      "PáginaComics Best Sellers - Marvel Comics - 34 Obtida\n",
      "PáginaComics Best Sellers - Marvel Comics - 35 Obtida\n",
      "PáginaComics Best Sellers - Marvel Comics - 36 Obtida\n",
      "PáginaComics Best Sellers - Marvel Comics - 37 Obtida\n",
      "PáginaComics Best Sellers - Marvel Comics - 38 Obtida\n",
      "PáginaComics Best Sellers - Marvel Comics - 39 Obtida\n",
      "PáginaComics Best Sellers - Marvel Comics - 40 Obtida\n",
      "PáginaComics Best Sellers - Marvel Comics - 41 Obtida\n",
      "PáginaComics Best Sellers - Marvel Comics - 42 Obtida\n"
     ]
    }
   ],
   "source": [
    "url = []\n",
    "for i in range(1, 43): #Pegando todas as páginas que possuiam hqs para venda\n",
    "    url.append('https://comicstore.marvel.com/comics-best-sellers?cu=0&bestsellerList_pg=' + str(i))\n",
    "\n",
    "#Listas para armazenar nome, numeração e preço das hqs\n",
    "hq_name = []\n",
    "hq_numbering = []\n",
    "hq_price = []\n",
    "\n",
    "num = 0 #variável para contar de quais páginas já foram pegos \n",
    "\n",
    "for x in url: #pegando cada página\n",
    "    num = num+1\n",
    "    html = urlopen(x)\n",
    "    soup = BeautifulSoup (html,\"lxml\")\n",
    "    title = soup.title\n",
    "    titleText = title.get_text()\n",
    "    print(\"Página\" + titleText + \" - \" + str(num) + \" Obtida\") #exibindo que já foi pego\n",
    "    \n",
    "    figcaption = soup.find_all('figcaption', class_='content-info') ## Obtendo o Título e Preço das obras\n",
    "    for elemen in figcaption:\n",
    "        wrappers = elemen.find('h5', class_='content-title cu-alc')\n",
    "        hq_name.append(wrappers.get_text().replace('-)', ')'))\n",
    "        \n",
    "        wrappers = elemen.find('h6', class_='content-subtitle cu-alc')\n",
    "        if wrappers.get_text().__contains__('Issue '):\n",
    "            hq_numbering.append(wrappers.get_text().split(\"Issue \")[1])\n",
    "        else: \n",
    "            hq_numbering.append(wrappers.get_text())\n",
    "            \n",
    "        wrappers = elemen.find('h5', class_='item-price cu-alc')\n",
    "        hq_price.append(float(wrappers.get_text().split(\"$\")[1]))\n",
    "        \n",
    "        \n",
    "        "
   ]
  },
  {
   "cell_type": "code",
   "execution_count": 3,
   "metadata": {},
   "outputs": [],
   "source": [
    "# Criando e salvando a base\n",
    "data = {'Nome':hq_name, 'Numeacao': hq_numbering, 'Preco':hq_price} \n",
    "dsetMarvelHQ = pd.DataFrame(data) \n",
    "dsetMarvelHQ.to_csv(r'C:\\Users\\pe-ri\\Documents\\Python Scripts\\PGCC-Métodos Quantitativos\\PGCC-MQ\\MQ02\\dsetMarvelHQ.csv',index = None, header=True)\n"
   ]
  },
  {
   "cell_type": "markdown",
   "metadata": {},
   "source": [
    "## 2. Visualizando a base gerada"
   ]
  },
  {
   "cell_type": "code",
   "execution_count": 4,
   "metadata": {
    "scrolled": true
   },
   "outputs": [
    {
     "name": "stdout",
     "output_type": "stream",
     "text": [
      "                                     Nome   Numeacao  Preco\n",
      "0                       House Of X (2019)  #6 (of 6)   4.99\n",
      "1                    Immortal Hulk (2018)        #24   3.99\n",
      "2                        Star Wars (2015)        #72   3.99\n",
      "3                   Fantastic Four (2018)        #15   3.99\n",
      "4  Absolute Carnage: Immortal Hulk (2019)         #1   4.99\n",
      "                                              Nome     Numeacao  Preco\n",
      "985                                Avengers (2018)           #9   1.99\n",
      "986                               Thor (2018-2019)          #11   1.99\n",
      "987  Star Wars Legends Epic Collection: The Empire       Vol. 1  29.99\n",
      "988                          Marvel Team-Up (2019)           #5   3.99\n",
      "989                           Secret Empire (2017)  #10 (of 10)   1.99\n"
     ]
    }
   ],
   "source": [
    "# Carregando a Base para não ter que ficar rodando sempre a parte 1\n",
    "df = pd.read_csv(r'C:\\Users\\pe-ri\\Documents\\Python Scripts\\PGCC-Métodos Quantitativos\\PGCC-MQ\\MQ02\\dsetMarvelHQ.csv')\n",
    "\n",
    "# Exibindo primeiros e últimos dados\n",
    "print(df.head())\n",
    "print(df.tail())"
   ]
  },
  {
   "cell_type": "markdown",
   "metadata": {},
   "source": [
    "##### Com tais dados, optou-se por fazer uma análise com relação aos preços das HQs por se tratar de uma variável Discreta, e o nome ser uma V. Categórica"
   ]
  },
  {
   "cell_type": "code",
   "execution_count": 5,
   "metadata": {
    "scrolled": false
   },
   "outputs": [
    {
     "name": "stdout",
     "output_type": "stream",
     "text": [
      "            Preco\n",
      "count  990.000000\n",
      "mean     7.095051\n",
      "std      5.785785\n",
      "min      0.990000\n",
      "25%      1.990000\n",
      "50%      4.990000\n",
      "75%     10.990000\n",
      "max     49.990000\n",
      "AxesSubplot(0.125,0.125;0.775x0.755)\n"
     ]
    },
    {
     "data": {
      "image/png": "[encoded data removed]",
      "text/plain": [
       "<Figure size 432x288 with 1 Axes>"
      ]
     },
     "metadata": {
      "needs_background": "light"
     },
     "output_type": "display_data"
    }
   ],
   "source": [
    "# Exibindo informações estatíticas básicas dos dados \n",
    "print(df.describe())\n",
    "boxplot = df.boxplot(column=['Preco'])\n",
    "print(boxplot)"
   ]
  },
  {
   "cell_type": "markdown",
   "metadata": {},
   "source": [
    "##### Foi possível perceber a existência de outliers por um simples boxplot. Logo, Fora feito então 2 processos, um com os outliers, e outro sem.\n",
    "\n",
    "### 3. Com Outliers\n",
    "#### 3.1 Calculando CDF"
   ]
  },
  {
   "cell_type": "code",
   "execution_count": 6,
   "metadata": {},
   "outputs": [
    {
     "name": "stdout",
     "output_type": "stream",
     "text": [
      "Total de ocorrências:  20\n",
      "Ocorrências:  {0.99: 4, 1.99: 323, 2.99: 3, 3.99: 160, 4.99: 42, 5.99: 6, 6.99: 39, 7.99: 6, 8.99: 137, 9.99: 7, 10.99: 131, 12.99: 27, 14.99: 12, 16.99: 37, 18.99: 1, 19.99: 38, 24.99: 10, 29.99: 5, 34.99: 1, 49.99: 1}\n"
     ]
    }
   ],
   "source": [
    "\"\"\"Pegando a quantidade de ocorrências e calculando a probabilidade\"\"\"\n",
    "\n",
    "#variáveis para armazenar total de valores distintos ocorrem ($totalOcorrencia), \n",
    "# e quais valores ocorrem e em quantas vezes ($ocorrencias)\n",
    "totalOcorrencia = 0\n",
    "ocorrencias = []\n",
    "ocorrencias = dict()\n",
    "#calculando quantidade de ocorrências\n",
    "\n",
    "X = df['Preco'].sort_values(ascending=True) #ordenando min->max\n",
    "totalAtributos = len(X) #pegando qdt total de atributos\n",
    "    \n",
    "for i in X: #agrupando e contando ocorrências\n",
    "    try:\n",
    "        ocorrencias[i] += 1\n",
    "    except KeyError:\n",
    "        ocorrencias[i] = 1\n",
    "        totalOcorrencia = totalOcorrencia + 1\n",
    "\n",
    "print(\"Total de ocorrências: \", totalOcorrencia)\n",
    "print(\"Ocorrências: \", ocorrencias)\n"
   ]
  },
  {
   "cell_type": "code",
   "execution_count": 7,
   "metadata": {
    "scrolled": true
   },
   "outputs": [
    {
     "name": "stdout",
     "output_type": "stream",
     "text": [
      "\n",
      "Probabilidade: [0.00404040404040404, 0.32626262626262625, 0.0030303030303030303, 0.16161616161616163, 0.04242424242424243, 0.006060606060606061, 0.03939393939393939, 0.006060606060606061, 0.1383838383838384, 0.007070707070707071, 0.13232323232323231, 0.02727272727272727, 0.012121212121212121, 0.03737373737373737, 0.00101010101010101, 0.03838383838383838, 0.010101010101010102, 0.005050505050505051, 0.00101010101010101, 0.00101010101010101]\n"
     ]
    }
   ],
   "source": [
    "#calculando a probabilidade de ocorrência\n",
    "probabilidade = []\n",
    "eixoX = []\n",
    "\n",
    "for item, totalOcorrenciaIndividual in ocorrencias.items():\n",
    "    probabilidade.append(totalOcorrenciaIndividual/totalAtributos)\n",
    "    eixoX.append(item)\n",
    "print(\"\\nProbabilidade:\", probabilidade)\n",
    "\n",
    "#Calculando eixo X da CDF\n",
    "ValorEixoX = []\n",
    "ValorEixoX.append(probabilidade[0])\n",
    "\n",
    "for i in range(1,totalOcorrencia):\n",
    "        if i != 0:\n",
    "            ValorEixoX.append(probabilidade[i]+ValorEixoX[i-1])\n"
   ]
  },
  {
   "cell_type": "markdown",
   "metadata": {},
   "source": [
    "#### 3.2 Plotando CDF"
   ]
  },
  {
   "cell_type": "code",
   "execution_count": 8,
   "metadata": {
    "scrolled": false
   },
   "outputs": [
    {
     "data": {
      "image/png": "[encoded data removed]",
      "text/plain": [
       "<Figure size 432x288 with 1 Axes>"
      ]
     },
     "metadata": {
      "needs_background": "light"
     },
     "output_type": "display_data"
    }
   ],
   "source": [
    "plt.xlabel('Preço da HQ')\n",
    "plt.ylabel('Probabilidade')\n",
    "plt.title('CDF Discreta')\n",
    "plt.grid(True)\n",
    "plt.step(eixoX, ValorEixoX, color='g')\n",
    "plt.show()"
   ]
  },
  {
   "cell_type": "markdown",
   "metadata": {},
   "source": [
    "#### 3.3 Calculando PMF e Criando tabela de relação do preço e PMF"
   ]
  },
  {
   "cell_type": "code",
   "execution_count": 9,
   "metadata": {
    "scrolled": false
   },
   "outputs": [
    {
     "name": "stdout",
     "output_type": "stream",
     "text": [
      "PMF por Preço\n",
      "     Nota       PMF\n",
      "0    0.99  0.004040\n",
      "1    1.99  0.326263\n",
      "2    2.99  0.003030\n",
      "3    3.99  0.161616\n",
      "4    4.99  0.042424\n",
      "5    5.99  0.006061\n",
      "6    6.99  0.039394\n",
      "7    7.99  0.006061\n",
      "8    8.99  0.138384\n",
      "9    9.99  0.007071\n",
      "10  10.99  0.132323\n",
      "11  12.99  0.027273\n",
      "12  14.99  0.012121\n",
      "13  16.99  0.037374\n",
      "14  18.99  0.001010\n",
      "15  19.99  0.038384\n",
      "16  24.99  0.010101\n",
      "17  29.99  0.005051\n",
      "18  34.99  0.001010\n",
      "19  49.99  0.001010\n"
     ]
    }
   ],
   "source": [
    "data = {'Nota':eixoX, 'PMF':probabilidade} \n",
    "pmf = pd.DataFrame(data) \n",
    "\n",
    "print(\"PMF por Preço\")\n",
    "print(pmf)"
   ]
  },
  {
   "cell_type": "markdown",
   "metadata": {},
   "source": [
    "#### 3.4 Plotando PMF"
   ]
  },
  {
   "cell_type": "code",
   "execution_count": 10,
   "metadata": {
    "scrolled": true
   },
   "outputs": [
    {
     "data": {
      "image/png": "[encoded data removed]",
      "text/plain": [
       "<Figure size 432x288 with 1 Axes>"
      ]
     },
     "metadata": {
      "needs_background": "light"
     },
     "output_type": "display_data"
    }
   ],
   "source": [
    "plt.xlabel('Preço da HQ')\n",
    "plt.ylabel('Probabilidade')\n",
    "plt.title('PMF')\n",
    "plt.bar(eixoX, probabilidade,label='PMF')\n",
    "plt.show()"
   ]
  },
  {
   "cell_type": "markdown",
   "metadata": {},
   "source": [
    "### 4. Sem Outliers\n",
    "#### 4.1 Removendo Outliers"
   ]
  },
  {
   "cell_type": "code",
   "execution_count": 11,
   "metadata": {
    "scrolled": false
   },
   "outputs": [
    {
     "name": "stdout",
     "output_type": "stream",
     "text": [
      "            Preco\n",
      "count  973.000000\n",
      "mean     6.720730\n",
      "std      5.023551\n",
      "min      0.990000\n",
      "25%      1.990000\n",
      "50%      3.990000\n",
      "75%     10.990000\n",
      "max     19.990000\n"
     ]
    },
    {
     "data": {
      "image/png": "[encoded data removed]",
      "text/plain": [
       "<Figure size 432x288 with 1 Axes>"
      ]
     },
     "metadata": {
      "needs_background": "light"
     },
     "output_type": "display_data"
    }
   ],
   "source": [
    "\"\"\"Refazendo mas removendo Outliers (>=25)\"\"\"\n",
    "\"\"\"Outliers: 24.99: 10, 29.99: 5, 34.99: 1, 49.99: 1\"\"\"\n",
    "\n",
    "outliers = [24.99, 29.99, 34.99, 49.99] #carregando outliers\n",
    "\n",
    "for k in outliers:\n",
    "    # Obtendo posição dos outliers na base\n",
    "    indexNames = df[ df['Preco'] == k ].index\n",
    "    # Removendo\n",
    "    df.drop(indexNames , inplace=True)\n",
    "\n",
    "#Exibindo estatus sem os outliers\n",
    "print(df.describe())\n",
    "boxplot = df.boxplot(column=['Preco'])"
   ]
  },
  {
   "cell_type": "markdown",
   "metadata": {},
   "source": [
    "#### 4.2 Calculando CDF"
   ]
  },
  {
   "cell_type": "code",
   "execution_count": 12,
   "metadata": {},
   "outputs": [
    {
     "name": "stdout",
     "output_type": "stream",
     "text": [
      "Total de ocorrências:  16\n",
      "Ocorrências:  {0.99: 4, 1.99: 323, 2.99: 3, 3.99: 160, 4.99: 42, 5.99: 6, 6.99: 39, 7.99: 6, 8.99: 137, 9.99: 7, 10.99: 131, 12.99: 27, 14.99: 12, 16.99: 37, 18.99: 1, 19.99: 38}\n"
     ]
    }
   ],
   "source": [
    "\"\"\"Pegando a quantidade de ocorrências e calculando a probabilidade\"\"\"\n",
    "\n",
    "#variáveis para armazenar total de valores distintos ocorrem ($totalOcorrencia), \n",
    "# e quais valores ocorrem e em quantas vezes ($ocorrencias)\n",
    "totalOcorrencia = 0\n",
    "ocorrencias = []\n",
    "ocorrencias = dict()\n",
    "#calculando quantidade de ocorrências\n",
    "\n",
    "X = df['Preco'].sort_values(ascending=True) #ordenando min->max\n",
    "totalAtributos = len(X) #pegando qdt total de atributos\n",
    "    \n",
    "for i in X: #agrupando e contando ocorrências\n",
    "    try:\n",
    "        ocorrencias[i] += 1\n",
    "    except KeyError:\n",
    "        ocorrencias[i] = 1\n",
    "        totalOcorrencia = totalOcorrencia + 1\n",
    "\n",
    "print(\"Total de ocorrências: \", totalOcorrencia)\n",
    "print(\"Ocorrências: \", ocorrencias)\n"
   ]
  },
  {
   "cell_type": "code",
   "execution_count": 13,
   "metadata": {
    "scrolled": true
   },
   "outputs": [
    {
     "name": "stdout",
     "output_type": "stream",
     "text": [
      "\n",
      "Probabilidade: [0.0041109969167523125, 0.3319630010277492, 0.003083247687564234, 0.1644398766700925, 0.04316546762589928, 0.006166495375128468, 0.040082219938335044, 0.006166495375128468, 0.1408016443987667, 0.007194244604316547, 0.13463514902363824, 0.02774922918807811, 0.012332990750256937, 0.03802672147995889, 0.0010277492291880781, 0.03905447070914697]\n"
     ]
    }
   ],
   "source": [
    "#calculando a probabilidade de ocorrência\n",
    "probabilidade = []\n",
    "eixoX = []\n",
    "\n",
    "for item, totalOcorrenciaIndividual in ocorrencias.items():\n",
    "    probabilidade.append(totalOcorrenciaIndividual/totalAtributos)\n",
    "    eixoX.append(item)\n",
    "print(\"\\nProbabilidade:\", probabilidade)\n",
    "\n",
    "#Calculando eixo X da CDF\n",
    "ValorEixoX = []\n",
    "ValorEixoX.append(probabilidade[0])\n",
    "\n",
    "for i in range(1,totalOcorrencia):\n",
    "        if i != 0:\n",
    "            ValorEixoX.append(probabilidade[i]+ValorEixoX[i-1])\n"
   ]
  },
  {
   "cell_type": "markdown",
   "metadata": {},
   "source": [
    "#### 4.3 Plotando CDF"
   ]
  },
  {
   "cell_type": "code",
   "execution_count": 14,
   "metadata": {
    "scrolled": false
   },
   "outputs": [
    {
     "data": {
      "image/png": "[encoded data removed]",
      "text/plain": [
       "<Figure size 432x288 with 1 Axes>"
      ]
     },
     "metadata": {
      "needs_background": "light"
     },
     "output_type": "display_data"
    }
   ],
   "source": [
    "plt.xlabel('Preço da HQ')\n",
    "plt.ylabel('Probabilidade')\n",
    "plt.title('CDF Discreta')\n",
    "plt.grid(True)\n",
    "plt.step(eixoX, ValorEixoX, color='b')\n",
    "plt.show()"
   ]
  },
  {
   "cell_type": "markdown",
   "metadata": {},
   "source": [
    "#### 4.4 Calculando PMF e Criando tabela de relação do preço e PMF"
   ]
  },
  {
   "cell_type": "code",
   "execution_count": 15,
   "metadata": {
    "scrolled": true
   },
   "outputs": [
    {
     "name": "stdout",
     "output_type": "stream",
     "text": [
      "PMF por Preço\n",
      "     Nota       PMF\n",
      "0    0.99  0.004111\n",
      "1    1.99  0.331963\n",
      "2    2.99  0.003083\n",
      "3    3.99  0.164440\n",
      "4    4.99  0.043165\n",
      "5    5.99  0.006166\n",
      "6    6.99  0.040082\n",
      "7    7.99  0.006166\n",
      "8    8.99  0.140802\n",
      "9    9.99  0.007194\n",
      "10  10.99  0.134635\n",
      "11  12.99  0.027749\n",
      "12  14.99  0.012333\n",
      "13  16.99  0.038027\n",
      "14  18.99  0.001028\n",
      "15  19.99  0.039054\n"
     ]
    }
   ],
   "source": [
    "data = {'Nota':eixoX, 'PMF':probabilidade} \n",
    "pmf = pd.DataFrame(data) \n",
    "\n",
    "print(\"PMF por Preço\")\n",
    "print(pmf)"
   ]
  },
  {
   "cell_type": "markdown",
   "metadata": {},
   "source": [
    "#### 4.5 Plotando PMF"
   ]
  },
  {
   "cell_type": "code",
   "execution_count": 16,
   "metadata": {
    "scrolled": true
   },
   "outputs": [
    {
     "data": {
      "image/png": "[encoded data removed]",
      "text/plain": [
       "<Figure size 432x288 with 1 Axes>"
      ]
     },
     "metadata": {
      "needs_background": "light"
     },
     "output_type": "display_data"
    }
   ],
   "source": [
    "plt.xlabel('Preço da HQ')\n",
    "plt.ylabel('Probabilidade')\n",
    "plt.title('PMF')\n",
    "plt.bar(eixoX, probabilidade,label='PMF')\n",
    "plt.show()"
   ]
  }
 ],
 "metadata": {
  "kernelspec": {
   "display_name": "Python 3",
   "language": "python",
   "name": "python3"
  },
  "language_info": {
   "codemirror_mode": {
    "name": "ipython",
    "version": 3
   },
   "file_extension": ".py",
   "mimetype": "text/x-python",
   "name": "python",
   "nbconvert_exporter": "python",
   "pygments_lexer": "ipython3",
   "version": "3.7.3"
  }
 },
 "nbformat": 4,
 "nbformat_minor": 2
}
