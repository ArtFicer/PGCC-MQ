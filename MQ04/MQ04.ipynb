{
 "cells": [
  {
   "cell_type": "markdown",
   "metadata": {},
   "source": [
    "# Trabalho 04 - Métodos Quantitativos\n",
    "**Mayara Amanda da Silva¹ - Redes de Computadores, Pedro Henrique Ventura¹ - Sistemas Multimídia**\n",
    "\n",
    "1 - Alunos da Pós Graduação em Ciência da Computação (2019). Terceiro Trimestre\n",
    "\n",
    "#### Tarefa AAG04\n",
    "Desenvolva em Python um script que execute os seguintes passos:\n",
    "\n",
    "\n",
    "## Bibliotecas\n"
   ]
  },
  {
   "cell_type": "code",
   "execution_count": 74,
   "metadata": {},
   "outputs": [],
   "source": [
    "#Manipulação de dados, bases, calculos e geração de gráficos\n",
    "import pandas as pd\n",
    "import numpy as np\n",
    "import matplotlib.pyplot as plt\n",
    "from scipy import stats\n",
    "import scipy\n",
    "import math"
   ]
  },
  {
   "cell_type": "markdown",
   "metadata": {},
   "source": [
    "# Gerando as Bases\n",
    "\n",
    "\n",
    "**1 - Escolha um contexto (tema) e colete ou gere pequenas amostras comparáveis, com n < 30**\n",
    "\n",
    "As amostras geradas visam mostrar as oscilações no preço das passagens interestaduais em um período de 24 meses. Vale salientar que as amostras pegam apenas 10 oscilações do preço, considerando que existiram mais de 10 oscilações nesse período de tempo."
   ]
  },
  {
   "cell_type": "markdown",
   "metadata": {},
   "source": [
    "#### Amostra 1\n",
    "A amostra 1 refere-se as alterações nos valores de Juiz de Fora x Três Rios"
   ]
  },
  {
   "cell_type": "code",
   "execution_count": 81,
   "metadata": {},
   "outputs": [
    {
     "name": "stdout",
     "output_type": "stream",
     "text": [
      "[-0.41015632  0.19039594  0.19830289 -0.61920216  1.82159095  1.31588846\n",
      " -1.04636732  0.88124015 -0.26289899 -0.88082029]\n"
     ]
    }
   ],
   "source": [
    "np.random.seed(21938)\n",
    "a = stats.t.rvs(100,size=10)\n",
    "print (a)"
   ]
  },
  {
   "cell_type": "code",
   "execution_count": 82,
   "metadata": {},
   "outputs": [],
   "source": [
    "amostra1 = [-0.41,  0.22,  0.19, -0.61,  1.82,  1.31,\n",
    " -1.04,  0.88, -0.26, -0.88]"
   ]
  },
  {
   "cell_type": "markdown",
   "metadata": {},
   "source": [
    "#### Amostra 2\n",
    "A amostra 2 é referente aos valores de Três Rios x Juiz de Fora."
   ]
  },
  {
   "cell_type": "code",
   "execution_count": 83,
   "metadata": {},
   "outputs": [
    {
     "name": "stdout",
     "output_type": "stream",
     "text": [
      "[-0.56445691  0.65636964 -0.30369643  0.55985072 -2.50393397  0.11675582\n",
      "  0.92656235 -0.92966121 -0.15966939 -0.2745982 ]\n"
     ]
    }
   ],
   "source": [
    "np.random.seed(51933)\n",
    "b = stats.t.rvs(100,size=10)\n",
    "print (b)"
   ]
  },
  {
   "cell_type": "code",
   "execution_count": 84,
   "metadata": {},
   "outputs": [],
   "source": [
    "amostra2 = [-0.56,  0.65, -0.30,  0.55, -2.50,  0.11,\n",
    "  0.92, -0.92, -0.15, -0.27]"
   ]
  },
  {
   "cell_type": "markdown",
   "metadata": {},
   "source": [
    "# Validando com Kolmogorov-Smirnov\n",
    "\n",
    "**2 - Execute Kolmogorov-Smirnov para verificar se as amostras seguem distribuição Normal (p-value de pelo menos 0.8)**\n",
    "\n",
    "Aplicamos o Teste de Kolmogorov-Smirnov para verificar se as amostras geradas vem de população com distribuição específica, que no exercício deve ser distribuição normal. Esse teste serve para validar as amostras antes de ser efetuado do T-Test\n",
    "\n",
    "\n",
    "**3 - Repita de 1 e 2 até encontrar pelo menos 2 amostras Normais**\n",
    "\n",
    "Para obtermos o resultado esperado, repetimos esse processo até que as duas amostras geradas tivessem um pvalue acima de 0.8, sendo consideradas amostras normais."
   ]
  },
  {
   "cell_type": "code",
   "execution_count": 61,
   "metadata": {},
   "outputs": [
    {
     "name": "stdout",
     "output_type": "stream",
     "text": [
      "\n",
      " KstestResult(statistic=0.1491699503309814, pvalue=0.9792246775799587)\n",
      "\n",
      " KstestResult(statistic=0.17878637961437172, pvalue=0.9065546008698484)\n"
     ]
    }
   ],
   "source": [
    "d1 = stats.kstest(amostra1,'norm')\n",
    "print ('\\n',d1)\n",
    "\n",
    "d2 = stats.kstest(amostra2,'norm')\n",
    "print ('\\n',d2)"
   ]
  },
  {
   "cell_type": "markdown",
   "metadata": {},
   "source": [
    "# T-Test\n",
    "**4 - Verifique se as médias das amostras possuem diferença significativa (Teste-T)**\n",
    "\n",
    "O T-Test permite comparar valores médios das duas amostras geradas e, com isso, determinar se elas vieram da mesma população. Como nossas amostras são de um mesmo grupo (referentes a passagens de ida e volta de uma cidade pra outra), é possível afirmar que essas amostras devem ter uma média e desvio padrão ligeiramente diferentes, como mostra nosso resultado.\n"
   ]
  },
  {
   "cell_type": "code",
   "execution_count": 89,
   "metadata": {},
   "outputs": [
    {
     "name": "stdout",
     "output_type": "stream",
     "text": [
      "==== Resultado ====\n",
      "t: 0.8456155531053122 \n",
      "p: 0.408867966007028\n"
     ]
    }
   ],
   "source": [
    "print('==== Resultado ====')\n",
    "\n",
    "t, p = stats.ttest_ind(a,b)\n",
    "print('t:',t,'\\np:',p)"
   ]
  },
  {
   "cell_type": "markdown",
   "metadata": {},
   "source": [
    "Calculamos o valor de **t** usando a fórmula acima, sendo que, para cada **t**, existe um **pvalue** associado.\n",
    "\n",
    "Sabendo que, quanto menor o valor de **p**, maior a significância estatística, podemos afirmar que: como o valor de **p** é 0.40, temos que existe 40% de chance da diferença das nossas amostras serem ao acaso."
   ]
  },
  {
   "cell_type": "markdown",
   "metadata": {},
   "source": [
    "# Calculando Intervalos de Confiança\n",
    "**5 - Calcule o intervalo de confiança para as médias para níveis de confiança de 90%, 95% e 99%.**\n",
    "\n",
    "\n",
    "O objetivo de calcular intervalo de confiança para os níveis de 90%, 95% e 99% significa que 90%, 95% e 99% dos intervalos de confiança construídos a partir das nossas amostras, contêm um parâmetro real contido nas amostras.\n",
    "\n",
    "\n",
    "Se um teste de hipótese for realizado, o nível de confiança é o complemento do nível de significância. \n",
    "Com isso, temos que: \n",
    "\n",
    "- O intervalo de confiança de 90% reflete um nível de significância de 0,10.\n",
    "- O intervalo de confiança de 95% reflete um nível de significância de 0,05.\n",
    "- O intervalo de confiança de 99% reflete um nível de significância de 0,01.\n",
    "\n",
    "\n",
    "#### Amostra 1"
   ]
  },
  {
   "cell_type": "code",
   "execution_count": 95,
   "metadata": {},
   "outputs": [
    {
     "name": "stdout",
     "output_type": "stream",
     "text": [
      "\n",
      "==== Amostra 1 ====\n",
      "\n",
      "Média: 0.1187973321794781\n",
      "\n",
      "Intervalo de confiança 0.9 : \n",
      "(-1.3754208012451696, 1.6130154656041253)\n",
      "\n",
      "Intervalo de confiança 0.95 : \n",
      "(-1.6616733909126356, 1.899268055271592)\n",
      "\n",
      "Intervalo de confiança 0.99 : \n",
      "(-2.2211378395006336, 2.4587325038595895)\n"
     ]
    }
   ],
   "source": [
    "#calcular a matriz média  \n",
    "print('\\n==== Amostra 1 ====')\n",
    "media = a.mean(axis=0)                                             \n",
    "print('\\nMédia: {}'.format(media))\n",
    "\n",
    "## 90%\n",
    "#Desvio Padrão\n",
    "dp=0.9\n",
    "desvio_padrao = np.std(a)                                          \n",
    "conf_int = scipy.stats.norm.interval(dp, loc=media, scale=desvio_padrao) \n",
    "print(\"\\nIntervalo de confiança\",dp,\": \")\n",
    "print(conf_int)\n",
    "\n",
    "dp=0.95\n",
    "conf_int = scipy.stats.norm.interval(dp, loc=media, scale=desvio_padrao) \n",
    "print(\"\\nIntervalo de confiança\",dp,\": \")\n",
    "print(conf_int)\n",
    "\n",
    "dp=0.99\n",
    "conf_int = scipy.stats.norm.interval(dp, loc=media, scale=desvio_padrao) \n",
    "print(\"\\nIntervalo de confiança\",dp,\": \")\n",
    "print(conf_int)\n"
   ]
  },
  {
   "cell_type": "markdown",
   "metadata": {},
   "source": [
    "#### Amostra 2"
   ]
  },
  {
   "cell_type": "code",
   "execution_count": 94,
   "metadata": {},
   "outputs": [
    {
     "name": "stdout",
     "output_type": "stream",
     "text": [
      "\n",
      "==== Conjunto B ====\n",
      "\n",
      "Média: -0.2476477570217535\n",
      "\n",
      "Intervalo de confiança:  0.9 : \n",
      "(-1.777344514535653, 1.2820490004921454)\n",
      "\n",
      "Intervalo de confiança:  0.95 : \n",
      "(-2.0703938682071206, 1.5750983541636137)\n",
      "\n",
      "Intervalo de confiança 0.99 : \n",
      "(-2.643142206488828, 2.147846692445321)\n"
     ]
    }
   ],
   "source": [
    "#calcular a matriz média \n",
    "print('\\n==== Amostra 2 ====')\n",
    "media = b.mean(axis=0)                                             \n",
    "print('\\nMédia: {}'.format(media))\n",
    "\n",
    "## 90%\n",
    "#Desvio Padrão\n",
    "dp=0.9\n",
    "desvio_padrao = np.std(b)                                          \n",
    "conf_int = scipy.stats.norm.interval(dp, loc=media, scale=desvio_padrao) \n",
    "print(\"\\nIntervalo de confiança: \",dp,\": \")\n",
    "print(conf_int)\n",
    "\n",
    "dp=0.95\n",
    "conf_int = scipy.stats.norm.interval(dp, loc=media, scale=desvio_padrao) \n",
    "print(\"\\nIntervalo de confiança: \",dp,\": \")\n",
    "print(conf_int)\n",
    "\n",
    "dp=0.99\n",
    "conf_int = scipy.stats.norm.interval(dp, loc=media, scale=desvio_padrao) \n",
    "print(\"\\nIntervalo de confiança\",dp,\": \")\n",
    "print(conf_int)\n"
   ]
  },
  {
   "cell_type": "markdown",
   "metadata": {},
   "source": [
    "Como **conclusão** dos intervalos de confiança, é possível afirmar que: nas duas amostras geradas no exercício, temos existe 90%, 95% e 99% de \"chance\" do intervalo conter o verdadeiro valor da média populacional calculada acima. "
   ]
  }
 ],
 "metadata": {
  "kernelspec": {
   "display_name": "Python 3",
   "language": "python",
   "name": "python3"
  },
  "language_info": {
   "codemirror_mode": {
    "name": "ipython",
    "version": 3
   },
   "file_extension": ".py",
   "mimetype": "text/x-python",
   "name": "python",
   "nbconvert_exporter": "python",
   "pygments_lexer": "ipython3",
   "version": "3.7.4"
  }
 },
 "nbformat": 4,
 "nbformat_minor": 2
}
